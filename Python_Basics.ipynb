{
  "cells": [
    {
      "cell_type": "markdown",
      "source": [
        "Python Basics **Questions**"
      ],
      "metadata": {
        "id": "ag-jLshyZ_zZ"
      }
    },
    {
      "cell_type": "markdown",
      "source": [
        "1. What is Python, and why is it popular.\n",
        ">>> Python is a high-level, interpreted programming language known for its simplicity and readability. It's popular because it has an easy syntax, vast libraries, is versatile and has a large supportive community.\n",
        "\n",
        "2. What is an interpreter in Python.\n",
        ">>> An interpreter is a program that executes Python code line by line, translating it into machine code at runtime, which makes debugging easier and the development process faster.\n",
        "\n",
        "3. What are pre-defined keywords in Python.\n",
        ">>> Keywords are reserved words that have special meaning in Python's syntax  and cannot be used as identifiers.\n",
        "\n",
        "4. Can keywords be used as variable names.\n",
        ">>> No, keywords cannot be used as variable name.\n",
        "\n",
        "5. What is mutability in Python.\n",
        ">>> Mutability in Python refers to whether an object's value can be changed     after it is created.\n",
        "\n",
        "6. Why are lists mutable, but tuples are immutable.\n",
        ">>> Lists are mutable because they are designed for dynamic modification, while tuples are immutable to provide fixed, hashable collections.\n",
        "\n",
        "7. What is the difference between “==” and “is” operators in Python.\n",
        ">>> \"==\" checks if two objects have equal value, while \"is\" checks if they are the exact same object in memory.\n",
        "\n",
        "8. What are logical operators in Python.\n",
        ">>> Logical operators in python are \"AND\",\"OR\",\"NOT\".\n",
        "9. What is type casting in Python.\n",
        ">>> Type casting in python is converting the value from one data type into another data type.\n",
        "10. What is the difference between implicit and explicit type casting.\n",
        ">>> .Implicit type casting is automatically done by pyton itself.\n",
        "    . Explicit type casting is a manual conversion done by programmer.\n",
        "11. What is the purpose of conditional statements in Python.\n",
        ">>> Conditional statements in Python control the flow of a program by executing code blocks only when specific conditions are true.\n",
        "12. How does the elif statement work.\n",
        ">>> The \"elif\" statement lets you check multiple conditions sequentially, it runs the block for the first condition that is true and skips the rest.\n",
        "\n",
        "13. What is the difference between for and while loops.\n",
        ">>> A for loop iterates over a known sequence or range, while a while loop runs repeatedly as long as a condition remains true.\n",
        "14. Describe a scenario where a while loop is more suitable than a for loop.\n",
        ">>> A while loop is better when you don’t know in advance how many times you need to repeat something—like waiting for valid user input or reading data until a certain condition is met"
      ],
      "metadata": {
        "id": "j0Sth2dGZ6B9"
      }
    },
    {
      "cell_type": "markdown",
      "source": [
        "# Practical **Questions**"
      ],
      "metadata": {
        "id": "udYGsqTiKshD"
      }
    },
    {
      "cell_type": "markdown",
      "source": [
        "1.  Write a Python program to print \"Hello, World!\"."
      ],
      "metadata": {
        "id": "fCZ9z3E1LHVR"
      }
    },
    {
      "cell_type": "code",
      "source": [
        "print(\"Hello, World!\")"
      ],
      "metadata": {
        "id": "cJi6XkjTKhmF",
        "outputId": "7f938d06-8264-48c3-e3b0-b6d5ac9dd98e",
        "colab": {
          "base_uri": "https://localhost:8080/"
        }
      },
      "execution_count": null,
      "outputs": [
        {
          "output_type": "stream",
          "name": "stdout",
          "text": [
            "Hello, World!\n"
          ]
        }
      ]
    },
    {
      "cell_type": "markdown",
      "source": [
        "2. Write a Python program that displays your name and age.\n"
      ],
      "metadata": {
        "id": "oLweELfyLyMZ"
      }
    },
    {
      "cell_type": "code",
      "source": [
        "name=\"Fazal Mohammad\"\n",
        "age=27\n",
        "print(f\"My name is {name} and my age is {age}.\")"
      ],
      "metadata": {
        "id": "AJcAo0jwL0gO",
        "outputId": "7d5cf19e-56ce-4918-a93c-c79069cac75b",
        "colab": {
          "base_uri": "https://localhost:8080/"
        }
      },
      "execution_count": null,
      "outputs": [
        {
          "output_type": "stream",
          "name": "stdout",
          "text": [
            "My name is Fazal Mohammad and my age is 27.\n"
          ]
        }
      ]
    },
    {
      "cell_type": "markdown",
      "source": [
        "3. Write code to print all the pre-defined keywords in Python using the keyword library."
      ],
      "metadata": {
        "id": "Wpe2dYuEMfOX"
      }
    },
    {
      "cell_type": "code",
      "source": [
        "help(\"keywords\")"
      ],
      "metadata": {
        "id": "13WGa5zcMk4m",
        "outputId": "7d70bdee-4b75-4cbe-b3be-b0f371f22f17",
        "colab": {
          "base_uri": "https://localhost:8080/"
        }
      },
      "execution_count": null,
      "outputs": [
        {
          "output_type": "stream",
          "name": "stdout",
          "text": [
            "\n",
            "Here is a list of the Python keywords.  Enter any keyword to get more help.\n",
            "\n",
            "False               class               from                or\n",
            "None                continue            global              pass\n",
            "True                def                 if                  raise\n",
            "and                 del                 import              return\n",
            "as                  elif                in                  try\n",
            "assert              else                is                  while\n",
            "async               except              lambda              with\n",
            "await               finally             nonlocal            yield\n",
            "break               for                 not                 \n",
            "\n"
          ]
        }
      ]
    },
    {
      "cell_type": "markdown",
      "source": [
        "4. Write a program that checks if a given word is a Python keyword."
      ],
      "metadata": {
        "id": "hQmOTUDhMt2_"
      }
    },
    {
      "cell_type": "code",
      "source": [
        "a=input(\"Enter any word :\")\n",
        "python_keywords = [\n",
        "    \"False\", \"None\", \"True\", \"and\", \"as\", \"assert\", \"async\", \"await\", \"break\",\n",
        "    \"class\", \"continue\", \"def\", \"del\", \"elif\", \"else\", \"except\", \"finally\",\n",
        "    \"for\", \"from\", \"global\", \"if\", \"import\", \"in\", \"is\", \"lambda\", \"nonlocal\",\n",
        "    \"not\", \"or\", \"pass\", \"raise\", \"return\", \"try\", \"while\", \"with\", \"yield\",\n",
        "    \"match\", \"case\"\n",
        "]\n",
        "\n",
        "if  a in python_keywords:\n",
        "  print (\"It's is a python keyword.\")\n",
        "else:\n",
        "  print(\"It is not a python keyword.\")"
      ],
      "metadata": {
        "id": "OLrb0gCJMydt",
        "outputId": "1922ec75-2e81-4f2c-c6a6-fe3393fb24ec",
        "colab": {
          "base_uri": "https://localhost:8080/"
        }
      },
      "execution_count": null,
      "outputs": [
        {
          "output_type": "stream",
          "name": "stdout",
          "text": [
            "Enter any word :true\n",
            "It is not a python keyword\n"
          ]
        }
      ]
    },
    {
      "cell_type": "markdown",
      "source": [
        "5.  Create a list and tuple in Python, and demonstrate how attempting to change an element works differently\n",
        "for each."
      ],
      "metadata": {
        "id": "8dRdH7plM0g6"
      }
    },
    {
      "cell_type": "code",
      "source": [
        "list=[1,2,2.5,\"pwskill\",True,3+4j]\n",
        "tuple=(1,2,2.5,\"pwskill\",True,3+4j)\n",
        "list[1]=5\n",
        "print(list)\n",
        "tuple[1]=5\n",
        "print(tuple)"
      ],
      "metadata": {
        "collapsed": true,
        "id": "DGteY6h7M32Y",
        "outputId": "735dd7a0-0885-49d6-9610-1e392ab55547",
        "colab": {
          "base_uri": "https://localhost:8080/",
          "height": 218
        }
      },
      "execution_count": null,
      "outputs": [
        {
          "output_type": "stream",
          "name": "stdout",
          "text": [
            "[1, 5, 2.5, 'pwskill', True, (3+4j)]\n"
          ]
        },
        {
          "output_type": "error",
          "ename": "TypeError",
          "evalue": "'tuple' object does not support item assignment",
          "traceback": [
            "\u001b[0;31m---------------------------------------------------------------------------\u001b[0m",
            "\u001b[0;31mTypeError\u001b[0m                                 Traceback (most recent call last)",
            "\u001b[0;32m/tmp/ipython-input-5-3718008726.py\u001b[0m in \u001b[0;36m<cell line: 0>\u001b[0;34m()\u001b[0m\n\u001b[1;32m      3\u001b[0m \u001b[0mlist\u001b[0m\u001b[0;34m[\u001b[0m\u001b[0;36m1\u001b[0m\u001b[0;34m]\u001b[0m\u001b[0;34m=\u001b[0m\u001b[0;36m5\u001b[0m\u001b[0;34m\u001b[0m\u001b[0;34m\u001b[0m\u001b[0m\n\u001b[1;32m      4\u001b[0m \u001b[0mprint\u001b[0m\u001b[0;34m(\u001b[0m\u001b[0mlist\u001b[0m\u001b[0;34m)\u001b[0m\u001b[0;34m\u001b[0m\u001b[0;34m\u001b[0m\u001b[0m\n\u001b[0;32m----> 5\u001b[0;31m \u001b[0mtuple\u001b[0m\u001b[0;34m[\u001b[0m\u001b[0;36m1\u001b[0m\u001b[0;34m]\u001b[0m\u001b[0;34m=\u001b[0m\u001b[0;36m5\u001b[0m\u001b[0;34m\u001b[0m\u001b[0;34m\u001b[0m\u001b[0m\n\u001b[0m\u001b[1;32m      6\u001b[0m \u001b[0mprint\u001b[0m\u001b[0;34m(\u001b[0m\u001b[0mtuple\u001b[0m\u001b[0;34m)\u001b[0m\u001b[0;34m\u001b[0m\u001b[0;34m\u001b[0m\u001b[0m\n",
            "\u001b[0;31mTypeError\u001b[0m: 'tuple' object does not support item assignment"
          ]
        }
      ]
    },
    {
      "cell_type": "markdown",
      "source": [
        "6. Write a function to demonstrate the behavior of mutable and immutable arguments."
      ],
      "metadata": {
        "id": "N1baq-xwNcoB"
      }
    },
    {
      "cell_type": "code",
      "source": [],
      "metadata": {
        "id": "TAJh3swPNgo-"
      },
      "execution_count": null,
      "outputs": []
    },
    {
      "cell_type": "markdown",
      "source": [
        "7. Write a program that performs basic arithmetic operations on two user-input numbers."
      ],
      "metadata": {
        "id": "rkWygXoCNknS"
      }
    },
    {
      "cell_type": "code",
      "source": [
        "num1=int(input(\"Enter a number : \"))\n",
        "num2=int(input(\"Enter another number : \"))\n",
        "operator= input(\"Choose the operator(+,-,*,/,%) : \")\n",
        "if(operator==\"+\"):\n",
        "  print(f\"{num1} + {num2} = {num1+num2}\")\n",
        "if(operator==\"-\"):\n",
        "  print(f\"{num1} -{num2} = {num1-num2}\")\n",
        "if(operator==\"*\"):\n",
        "  print(f\"{num1} * {num2} = {num1*num2}\")\n",
        "if(operator==\"/\"):\n",
        "  print(f\"{num1} / {num2} = {num1/num2}\")\n",
        "if(operator==\"%\"):\n",
        "  print(f\"{num1} % {num2} = {num1%num2}\")"
      ],
      "metadata": {
        "id": "oNEFmZnFNpNv",
        "outputId": "61ad764d-54ba-4ce6-8cef-c952fa452f64",
        "colab": {
          "base_uri": "https://localhost:8080/"
        }
      },
      "execution_count": null,
      "outputs": [
        {
          "output_type": "stream",
          "name": "stdout",
          "text": [
            "Enter a number : 5\n",
            "Enter another number : 2\n",
            "Choose the operator(+,-,*,/,%) : %\n",
            "5 % 2 = 1\n"
          ]
        }
      ]
    },
    {
      "cell_type": "markdown",
      "source": [
        "8. Write a program to demonstrate the use of logical operators."
      ],
      "metadata": {
        "id": "JrQANJX2PgvT"
      }
    },
    {
      "cell_type": "code",
      "source": [
        "a = int(input(\"Enter first number (a): \"))\n",
        "b = int(input(\"Enter second number (b): \"))\n",
        "\n",
        "if a > 0 and b > 0:\n",
        "    print(\"Both numbers are positive.\")\n",
        "\n",
        "if a > 0 or b > 0:\n",
        "    print(\"At least one number is positive.\")\n",
        "\n",
        "if not (a > 0 and b > 0):\n",
        "    print(\"At least one number is NOT positive.\")\n"
      ],
      "metadata": {
        "id": "yisVhT2ZPoAY",
        "outputId": "fc468019-31b0-4dbb-9b3a-7b323b7b7a34",
        "colab": {
          "base_uri": "https://localhost:8080/"
        }
      },
      "execution_count": null,
      "outputs": [
        {
          "output_type": "stream",
          "name": "stdout",
          "text": [
            "Enter first number (a): 2\n",
            "Enter second number (b): 3\n",
            "Both numbers are positive.\n",
            "At least one number is positive.\n"
          ]
        }
      ]
    },
    {
      "cell_type": "markdown",
      "source": [
        "9. Write a Python program to convert user input from string to integer, float, and boolean types."
      ],
      "metadata": {
        "id": "QpxOK6dKPyh-"
      }
    },
    {
      "cell_type": "code",
      "source": [],
      "metadata": {
        "collapsed": true,
        "id": "gFo8oDWPP5Nd"
      },
      "execution_count": null,
      "outputs": []
    },
    {
      "cell_type": "markdown",
      "source": [
        "10.Write code to demonstrate type casting with list elements."
      ],
      "metadata": {
        "id": "uUeGfRmyQvPK"
      }
    },
    {
      "cell_type": "code",
      "source": [],
      "metadata": {
        "id": "5FPehlwCQ1UC"
      },
      "execution_count": null,
      "outputs": []
    },
    {
      "cell_type": "markdown",
      "source": [
        "11. Write a program that checks if a number is positive, negative, or zero."
      ],
      "metadata": {
        "id": "LHzwkKQYQ4Wh"
      }
    },
    {
      "cell_type": "code",
      "source": [
        "num=int(input(\"Enter any number : \"))\n",
        "if(num>0):\n",
        "  print(\"The number is positive.\")\n",
        "elif(num==0):\n",
        "  print(\"The number is zero.\")\n",
        "elif(num<0):\n",
        "  print(\"The number is negative.\")"
      ],
      "metadata": {
        "id": "tCVSgpLcQ9vK",
        "outputId": "11a7b606-4b7c-49a9-a5a8-8a2344c0ff74",
        "colab": {
          "base_uri": "https://localhost:8080/"
        }
      },
      "execution_count": null,
      "outputs": [
        {
          "output_type": "stream",
          "name": "stdout",
          "text": [
            "Enter any number : 0\n",
            "The number is zero.\n"
          ]
        }
      ]
    },
    {
      "cell_type": "markdown",
      "source": [
        "12. Write a for loop to print numbers from 1 to 10."
      ],
      "metadata": {
        "id": "VmflvbMMRv5m"
      }
    },
    {
      "cell_type": "code",
      "source": [
        "for i in range(1,11):\n",
        "  print(i)"
      ],
      "metadata": {
        "id": "f8xajWMLRzqY",
        "outputId": "adf95817-f714-47f8-cb52-0881f6b120ed",
        "colab": {
          "base_uri": "https://localhost:8080/"
        }
      },
      "execution_count": null,
      "outputs": [
        {
          "output_type": "stream",
          "name": "stdout",
          "text": [
            "1\n",
            "2\n",
            "3\n",
            "4\n",
            "5\n",
            "6\n",
            "7\n",
            "8\n",
            "9\n",
            "10\n"
          ]
        }
      ]
    },
    {
      "cell_type": "markdown",
      "source": [
        "13. Write a Python program to find the sum of all even numbers between 1 and 50."
      ],
      "metadata": {
        "id": "hB8e5lu0R8TD"
      }
    },
    {
      "cell_type": "code",
      "source": [
        "sum=0\n",
        "for i in range(1,51):\n",
        "  if(i%2==0):\n",
        "    sum=sum+i\n",
        "print(sum)"
      ],
      "metadata": {
        "id": "fIPrpkFDR_4J",
        "outputId": "e7d83c84-7ec0-4e74-a73a-1691a561939b",
        "colab": {
          "base_uri": "https://localhost:8080/"
        }
      },
      "execution_count": null,
      "outputs": [
        {
          "output_type": "stream",
          "name": "stdout",
          "text": [
            "650\n"
          ]
        }
      ]
    },
    {
      "cell_type": "markdown",
      "source": [
        "14. Write a program to reverse a string using a while loop."
      ],
      "metadata": {
        "id": "TGF8Y_PXTAZr"
      }
    },
    {
      "cell_type": "code",
      "source": [],
      "metadata": {
        "id": "L-3rHyVUTEMZ"
      },
      "execution_count": null,
      "outputs": []
    },
    {
      "cell_type": "markdown",
      "source": [
        "15. Write a Python program to calculate the factorial of a number provided by the user using a while loop."
      ],
      "metadata": {
        "id": "5XAz90zrUU_C"
      }
    },
    {
      "cell_type": "code",
      "source": [
        "fact=1\n",
        "num=int(input(\"Enter any number to find its factorial : \"))\n",
        "i=num\n",
        "while (i>0):\n",
        "          fact=fact*i\n",
        "          i=i-1\n",
        "print(f\"Factorial of {num} is {fact}.\")\n"
      ],
      "metadata": {
        "id": "WRNnhUlUUYVW",
        "outputId": "4f9341f6-0967-4a9e-db2b-bda128ff9c63",
        "colab": {
          "base_uri": "https://localhost:8080/"
        }
      },
      "execution_count": null,
      "outputs": [
        {
          "output_type": "stream",
          "name": "stdout",
          "text": [
            "Enter any number to find its factorial : 5\n",
            "Factorial of 5 is 120.\n"
          ]
        }
      ]
    }
  ],
  "metadata": {
    "colab": {
      "provenance": []
    },
    "kernelspec": {
      "display_name": "Python 3",
      "name": "python3"
    }
  },
  "nbformat": 4,
  "nbformat_minor": 0
}